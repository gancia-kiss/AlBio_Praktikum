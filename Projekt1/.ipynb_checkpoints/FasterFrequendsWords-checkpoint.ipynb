{
 "cells": [
  {
   "cell_type": "markdown",
   "metadata": {},
   "source": [
    "# 1.Daten importieren"
   ]
  },
  {
   "cell_type": "code",
   "execution_count": 90,
   "metadata": {},
   "outputs": [
    {
     "name": "stdout",
     "output_type": "stream",
     "text": [
      "atcaatgatcaacgtaagcttctaagcatgatcaaggtgctcacacagtttatccacaacctgagtggatgacatcaagataggtcgttgtatctccttcctctcgtactctcatgaccacggaaagatgatcaagagaggatgatttcttggccatatcgcaatgaatacttgtgacttgtgcttccaattgacatcttcagcgccatattgcgctggccaaggtgacggagcgggattacgaaagcatgatcatggctgttgttctgtttatcttgttttgactgagacttgttaggatagacggtttttcatcactgactagccaaagccttactctgcctgacatcgaccgtaaattgataatgaatttacatgcttccgcgacgatttacctcttgatcatcgatccgattgaagatcttcaattgttaattctcttgcctcgactcatagccatgatgagctcttgatcatgtttccttaaccctctattttttacggaagaatgatcaagctgctgctcttgatcatcgtttc\n"
     ]
    }
   ],
   "source": [
    "file=open(\"Data\")\n",
    "s=\"\"\n",
    "infile=file.read().split()\n",
    "data=s.join(infile)\n",
    "\n",
    "print(data)"
   ]
  },
  {
   "cell_type": "markdown",
   "metadata": {},
   "source": [
    "# 2.Number to Pattern"
   ]
  },
  {
   "cell_type": "markdown",
   "metadata": {},
   "source": [
    "### Hilfsfunktion: Number to Symbol"
   ]
  },
  {
   "cell_type": "code",
   "execution_count": 91,
   "metadata": {},
   "outputs": [],
   "source": [
    "def NumberToSymbol(index):\n",
    "    if index>3:\n",
    "        return \"kein gueltige index\"\n",
    "    dic={0:\"a\",1:\"c\",2:\"g\",3:\"t\"}\n",
    "    return dic[index]\n",
    "    "
   ]
  },
  {
   "cell_type": "code",
   "execution_count": 92,
   "metadata": {},
   "outputs": [],
   "source": [
    "#der Pseudocode aus der Folien wurde Zeile pro Zeile \n",
    "#     interpretiert\n",
    "def NumberToPattern(index,k):\n",
    "    if k==1:\n",
    "        return NumberToSymbol(index)\n",
    "    prefixIndex=index//4\n",
    "    r=index%4\n",
    "    symbol=NumberToSymbol(r)\n",
    "    prefixPattern=NumberToPattern(prefixIndex,k-1)\n",
    "    return prefixPattern+symbol"
   ]
  },
  {
   "cell_type": "markdown",
   "metadata": {},
   "source": [
    "# 3.PatternToNumber"
   ]
  },
  {
   "cell_type": "code",
   "execution_count": 93,
   "metadata": {},
   "outputs": [],
   "source": [
    "def SymbolToNumber(symbol):\n",
    "    if symbol not in [\"a\",\"c\",\"g\",\"t\"]:\n",
    "        return \"keine gueltige Symbol\"\n",
    "    dic={\"a\":0,\"c\":1,\"g\":2,\"t\":3}\n",
    "    return dic[symbol]\n",
    "    "
   ]
  },
  {
   "cell_type": "code",
   "execution_count": 94,
   "metadata": {},
   "outputs": [],
   "source": [
    "def PatternToNumber(Pattern):\n",
    "    length=len(Pattern)\n",
    "    if length==0:\n",
    "        return 0   \n",
    "    symbol=Pattern[length-1]\n",
    "    prefix=Pattern[0:length-1]\n",
    "    Ergebnis=(4*PatternToNumber(prefix))+(SymbolToNumber(symbol))\n",
    "    return Ergebnis\n"
   ]
  },
  {
   "cell_type": "markdown",
   "metadata": {},
   "source": [
    "# 4.ComputingFrequencies"
   ]
  },
  {
   "cell_type": "code",
   "execution_count": 95,
   "metadata": {},
   "outputs": [],
   "source": [
    "def ComputingFrequencies(text,k):\n",
    "    a=(4**k)\n",
    "    length=len(text)-k\n",
    "    frequencyArray=[0 for i in range (0,a)]\n",
    "    for i in range (0,length):\n",
    "        Pattern=text[i:k+i]\n",
    "        #print(Pattern)\n",
    "        j=PatternToNumber(Pattern)\n",
    "        frequencyArray[j]=frequencyArray[j]+1\n",
    "    return frequencyArray\n",
    "        "
   ]
  },
  {
   "cell_type": "markdown",
   "metadata": {},
   "source": [
    "# 5.FasterFrequentWords"
   ]
  },
  {
   "cell_type": "code",
   "execution_count": 96,
   "metadata": {},
   "outputs": [],
   "source": [
    "def Max(liste):\n",
    "    mymax=liste[0]\n",
    "    for i in range (0,len(liste)):\n",
    "        if liste[i]>mymax:\n",
    "            mymax=liste[i]\n",
    "    return mymax\n",
    "def removeDuplicates(liste):\n",
    "    hilf=[]\n",
    "    for i in range (len(liste)):\n",
    "        if liste[i] not in hilf:\n",
    "            hilf.append(liste[i])\n",
    "        \n",
    "    return hilf\n",
    "            "
   ]
  },
  {
   "cell_type": "code",
   "execution_count": 115,
   "metadata": {},
   "outputs": [],
   "source": [
    "def FasterFrequentWords(text,k):\n",
    "    a=(4**k)\n",
    "    frequentPatterns=[]\n",
    "    frequencyArray=ComputingFrequencies(text,k)\n",
    "    maxCount=Max(frequencyArray)\n",
    "    for i in range (0,a):\n",
    "        if frequencyArray[i]==maxCount:\n",
    "            Pattern=NumberToPattern(i,k)\n",
    "            frequentPatterns.append(Pattern)\n",
    "    ergebnis=removeDuplicates(frequentPatterns)\n",
    "    return ergebnis"
   ]
  },
  {
   "cell_type": "code",
   "execution_count": 117,
   "metadata": {},
   "outputs": [
    {
     "data": {
      "text/plain": [
       "['atgatcaag', 'ctcttgatc', 'cttgatcat', 'tcttgatca']"
      ]
     },
     "execution_count": 117,
     "metadata": {},
     "output_type": "execute_result"
    }
   ],
   "source": [
    "FasterFrequentWords(data,9)"
   ]
  },
  {
   "cell_type": "code",
   "execution_count": null,
   "metadata": {},
   "outputs": [],
   "source": []
  },
  {
   "cell_type": "code",
   "execution_count": null,
   "metadata": {},
   "outputs": [],
   "source": []
  }
 ],
 "metadata": {
  "kernelspec": {
   "display_name": "Python 3",
   "language": "python",
   "name": "python3"
  },
  "language_info": {
   "codemirror_mode": {
    "name": "ipython",
    "version": 3
   },
   "file_extension": ".py",
   "mimetype": "text/x-python",
   "name": "python",
   "nbconvert_exporter": "python",
   "pygments_lexer": "ipython3",
   "version": "3.5.2"
  }
 },
 "nbformat": 4,
 "nbformat_minor": 2
}
