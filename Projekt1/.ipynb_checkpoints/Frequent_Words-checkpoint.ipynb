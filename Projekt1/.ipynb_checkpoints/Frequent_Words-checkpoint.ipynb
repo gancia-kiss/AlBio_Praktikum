{
 "cells": [
  {
   "cell_type": "code",
   "execution_count": 5,
   "metadata": {},
   "outputs": [],
   "source": [
    "def PatternCount(Text,Pattern):\n",
    "    count=0\n",
    "    length=len(Text)-len(Pattern)\n",
    "    lengthPattern=len(Pattern)\n",
    "    for i in range (0,length):\n",
    "        if Text[i:lengthPattern+1]==Pattern:\n",
    "            count +=1\n",
    "    return count"
   ]
  },
  {
   "cell_type": "code",
   "execution_count": 14,
   "metadata": {},
   "outputs": [],
   "source": [
    "def Max(liste):\n",
    "    mymax=liste[0]\n",
    "    for i in range (0,len(liste)+1):\n",
    "        if liste[i]>mymax:\n",
    "            mymax=liste[i]\n",
    "    return mymax"
   ]
  },
  {
   "cell_type": "code",
   "execution_count": null,
   "metadata": {},
   "outputs": [],
   "source": [
    "def removeDuplicate(liste):\n",
    "    for i in range (len(liste)):\n",
    "        for j in range (len(liste)):\n",
    "            if liste[i]==liste[j]:\n",
    "                liste.pop(j)\n",
    "    return liste\n",
    "            \n",
    "    "
   ]
  },
  {
   "cell_type": "code",
   "execution_count": 15,
   "metadata": {},
   "outputs": [],
   "source": [
    " def frequentWords(Text,k):\n",
    "        frequentPatterns =[]\n",
    "        length= len(Text)-k\n",
    "        count=[0 for i in range (0,length)] \n",
    "        for i in range (0,length+1):\n",
    "            Pattern=Text[i:k+1]\n",
    "            count[i]=PatternCount(Text,Pattern)\n",
    "        maxCount=Max(count)\n",
    "        for i in range (0,length+1):\n",
    "            if count[i]==maxCount:\n",
    "                frequentPatterns + Text[i:k+1]\n",
    "        removeDuplicate(frequentPatterns)\n",
    "        return frequentPatterns"
   ]
  }
 ],
 "metadata": {
  "kernelspec": {
   "display_name": "Python 3",
   "language": "python",
   "name": "python3"
  },
  "language_info": {
   "codemirror_mode": {
    "name": "ipython",
    "version": 3
   },
   "file_extension": ".py",
   "mimetype": "text/x-python",
   "name": "python",
   "nbconvert_exporter": "python",
   "pygments_lexer": "ipython3",
   "version": "3.5.2"
  }
 },
 "nbformat": 4,
 "nbformat_minor": 2
}
