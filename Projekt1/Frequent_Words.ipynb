{
 "cells": [
  {
   "cell_type": "markdown",
   "metadata": {},
   "source": [
    "# 1.Data Importieren"
   ]
  },
  {
   "cell_type": "code",
   "execution_count": 126,
   "metadata": {},
   "outputs": [
    {
     "name": "stdout",
     "output_type": "stream",
     "text": [
      "atcaatgatcaacgtaagcttctaagcatgatcaaggtgctcacacagtttatccacaacctgagtggatgacatcaagataggtcgttgtatctccttcctctcgtactctcatgaccacggaaagatgatcaagagaggatgatttcttggccatatcgcaatgaatacttgtgacttgtgcttccaattgacatcttcagcgccatattgcgctggccaaggtgacggagcgggattacgaaagcatgatcatggctgttgttctgtttatcttgttttgactgagacttgttaggatagacggtttttcatcactgactagccaaagccttactctgcctgacatcgaccgtaaattgataatgaatttacatgcttccgcgacgatttacctcttgatcatcgatccgattgaagatcttcaattgttaattctcttgcctcgactcatagccatgatgagctcttgatcatgtttccttaaccctctattttttacggaagaatgatcaagctgctgctcttgatcatcgtttc\n"
     ]
    }
   ],
   "source": [
    "file=open(\"Data\")\n",
    "s=\"\"\n",
    "infile=file.read().split()\n",
    "data=s.join(infile)\n",
    "\n",
    "print(data)"
   ]
  },
  {
   "cell_type": "markdown",
   "metadata": {},
   "source": [
    "# 2.PatternCount"
   ]
  },
  {
   "cell_type": "code",
   "execution_count": 177,
   "metadata": {},
   "outputs": [],
   "source": [
    "#Pseudocode wurde Zeile pro Zeile umgesetzt\n",
    "def PatternCount(Text,Pattern):\n",
    "    count=0\n",
    "    length=len(Text)-len(Pattern)\n",
    "    lengthPattern=len(Pattern)\n",
    "    for i in range (0,length+1):\n",
    "        if Text[i:lengthPattern+i]==Pattern:\n",
    "            count +=1\n",
    "    return count"
   ]
  },
  {
   "cell_type": "markdown",
   "metadata": {},
   "source": [
    "# 3.Weitere Hilfsfunktionen"
   ]
  },
  {
   "cell_type": "markdown",
   "metadata": {},
   "source": [
    "### 3.1 Max: berechne das Maximum in einer Liste"
   ]
  },
  {
   "cell_type": "code",
   "execution_count": 178,
   "metadata": {},
   "outputs": [],
   "source": [
    "def Max(liste):\n",
    "    mymax=liste[0]\n",
    "    for i in range (0,len(liste)):\n",
    "        if liste[i]>mymax:\n",
    "            mymax=liste[i]\n",
    "    return mymax"
   ]
  },
  {
   "cell_type": "markdown",
   "metadata": {},
   "source": [
    "### 3.2 removeDuplicate: Hilfsfunktion die alle duplicate in der Liste entfernt"
   ]
  },
  {
   "cell_type": "code",
   "execution_count": 179,
   "metadata": {},
   "outputs": [],
   "source": [
    "def removeDuplicate(liste):\n",
    "    hilf=[]\n",
    "    for i in range (len(liste)):\n",
    "        if liste[i] not in hilf:\n",
    "            hilf.append(liste[i])\n",
    "        \n",
    "    return hilf\n",
    "            \n",
    "    "
   ]
  },
  {
   "cell_type": "markdown",
   "metadata": {},
   "source": [
    "# 4.FrequentWords"
   ]
  },
  {
   "cell_type": "code",
   "execution_count": 231,
   "metadata": {},
   "outputs": [],
   "source": [
    "#pseudocode wurde zeile pro zeile umgesetzt\n",
    "def frequentWords(Text,k):\n",
    "        frequentPatterns =[]\n",
    "        length= len(Text)-k\n",
    "        count=[0 for i in range (0,length+1)]  #da wurde eine Liste mit Nullen iterieren\n",
    "        for i in range (0,length+1):\n",
    "            Pattern=Text[i:k+i]\n",
    "            count[i]=PatternCount(Text,Pattern)\n",
    "        maxCount=Max(count)\n",
    "        for i in range (0,length+1):\n",
    "            if count[i]==maxCount:\n",
    "                frequentPatterns.append(Text[i:k+i])\n",
    "        print(\"Alle String die in der Liste sind, sind\",maxCount,\"in der DNA Sequenz vorgekommen\")\n",
    "        ergebnis=removeDuplicate(frequentPatterns)\n",
    "        return ergebnis"
   ]
  },
  {
   "cell_type": "markdown",
   "metadata": {},
   "source": [
    "# 5.Test "
   ]
  },
  {
   "cell_type": "code",
   "execution_count": 232,
   "metadata": {},
   "outputs": [
    {
     "name": "stdout",
     "output_type": "stream",
     "text": [
      "Alle String die in der Liste sind, sind 3 in der DNA Sequenz vorgekommen\n"
     ]
    },
    {
     "data": {
      "text/plain": [
       "['atgatcaag', 'ctcttgatc', 'tcttgatca', 'cttgatcat']"
      ]
     },
     "execution_count": 232,
     "metadata": {},
     "output_type": "execute_result"
    }
   ],
   "source": [
    "frequentWords(data,9)\n"
   ]
  },
  {
   "cell_type": "code",
   "execution_count": 233,
   "metadata": {},
   "outputs": [
    {
     "name": "stdout",
     "output_type": "stream",
     "text": [
      "Alle String die in der Liste sind, sind 25 in der DNA Sequenz vorgekommen\n"
     ]
    },
    {
     "data": {
      "text/plain": [
       "['tga']"
      ]
     },
     "execution_count": 233,
     "metadata": {},
     "output_type": "execute_result"
    }
   ],
   "source": [
    "frequentWords(data,3)"
   ]
  },
  {
   "cell_type": "code",
   "execution_count": null,
   "metadata": {},
   "outputs": [],
   "source": []
  }
 ],
 "metadata": {
  "kernelspec": {
   "display_name": "Python 3",
   "language": "python",
   "name": "python3"
  },
  "language_info": {
   "codemirror_mode": {
    "name": "ipython",
    "version": 3
   },
   "file_extension": ".py",
   "mimetype": "text/x-python",
   "name": "python",
   "nbconvert_exporter": "python",
   "pygments_lexer": "ipython3",
   "version": "3.5.2"
  }
 },
 "nbformat": 4,
 "nbformat_minor": 2
}
